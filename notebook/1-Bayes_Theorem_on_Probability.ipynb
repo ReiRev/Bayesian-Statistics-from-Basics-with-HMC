{
 "cells": [
  {
   "cell_type": "code",
   "execution_count": 5,
   "metadata": {},
   "outputs": [],
   "source": [
    "import matplotlib.pyplot as plt\n",
    "import pandas as pd\n",
    "import numpy as np\n",
    "\n",
    "np.random.seed(0)"
   ]
  },
  {
   "attachments": {},
   "cell_type": "markdown",
   "metadata": {},
   "source": [
    "# 1 確率に関するベイズの定理\n",
    "\n",
    "ベイズの定理は以下によって定義される。\n",
    "\n",
    "$$\n",
    "p(A|B) = \\frac{p(B|A)p(A)}{p(B)}\n",
    "$$"
   ]
  },
  {
   "attachments": {},
   "cell_type": "markdown",
   "metadata": {},
   "source": [
    "## 1.1 ベイズ統計学小史\n",
    "\n",
    "ベイズの定理を考案したのは、トーマス・ベイズであるが、それを数式として整理したのはピエール・シモン・ラプラスである。\n",
    "20世紀までの統計の分野では頻度主義が多数派であり、ベイズ統計が忌避されていた。\n",
    "そのため、統計以外の分野における研究者たちが頻度主義を採用していたのは、ある意味必然であったと言える。"
   ]
  },
  {
   "attachments": {},
   "cell_type": "markdown",
   "metadata": {},
   "source": [
    "## 1.2 導入\n",
    "\n",
    "混乱を防ぐため、まずは、ベイズ統計を特徴づける主観確率からではなく、客観確率からベイズの定理を理解する。"
   ]
  },
  {
   "attachments": {},
   "cell_type": "markdown",
   "metadata": {},
   "source": [
    "### 1.2.1 確率\n",
    "\n",
    "- 試行(trial): 偶然に左右される観測結果\n",
    "- 事象(event): 試行の結果起こりうる状態\n",
    "- 標本空間(sample space): 起こりうる全ての事象\n",
    "- 根元事象(fundamental event): これ以上分割することのできない事象\n",
    "\n",
    "事象Aの起こる確率は以下で定義される。\n",
    "$$\n",
    "p(A) = \\frac{N(A)}{N(標本空間)}\n",
    "$$\n",
    "\n",
    "- 大数の法則(law of large numbers): 試行を繰り返すことで、事象Aの確率は本来の値に収束する。\n",
    "- 客観確率(objective probability): 上記によって定義される確率\n",
    "\n",
    "以下では、0.4の確率で1が出る思考を4回行い、ある回数の施行までの平均値を出している。\n",
    "確かに、どの場合においても十分な回数の施行を行えば、その値は0.4に近づくことがわかる。"
   ]
  },
  {
   "cell_type": "code",
   "execution_count": 6,
   "metadata": {},
   "outputs": [
    {
     "data": {
      "text/html": [
       "<div>\n",
       "<style scoped>\n",
       "    .dataframe tbody tr th:only-of-type {\n",
       "        vertical-align: middle;\n",
       "    }\n",
       "\n",
       "    .dataframe tbody tr th {\n",
       "        vertical-align: top;\n",
       "    }\n",
       "\n",
       "    .dataframe thead th {\n",
       "        text-align: right;\n",
       "    }\n",
       "</style>\n",
       "<table border=\"1\" class=\"dataframe\">\n",
       "  <thead>\n",
       "    <tr style=\"text-align: right;\">\n",
       "      <th></th>\n",
       "      <th>5</th>\n",
       "      <th>20</th>\n",
       "      <th>50</th>\n",
       "      <th>100</th>\n",
       "      <th>100000</th>\n",
       "    </tr>\n",
       "  </thead>\n",
       "  <tbody>\n",
       "    <tr>\n",
       "      <th>1回目</th>\n",
       "      <td>0.4</td>\n",
       "      <td>0.50</td>\n",
       "      <td>0.48</td>\n",
       "      <td>0.38</td>\n",
       "      <td>0.39842</td>\n",
       "    </tr>\n",
       "    <tr>\n",
       "      <th>2回目</th>\n",
       "      <td>0.2</td>\n",
       "      <td>0.40</td>\n",
       "      <td>0.40</td>\n",
       "      <td>0.46</td>\n",
       "      <td>0.40425</td>\n",
       "    </tr>\n",
       "    <tr>\n",
       "      <th>3回目</th>\n",
       "      <td>0.4</td>\n",
       "      <td>0.45</td>\n",
       "      <td>0.36</td>\n",
       "      <td>0.36</td>\n",
       "      <td>0.39755</td>\n",
       "    </tr>\n",
       "    <tr>\n",
       "      <th>4回目</th>\n",
       "      <td>0.4</td>\n",
       "      <td>0.25</td>\n",
       "      <td>0.40</td>\n",
       "      <td>0.40</td>\n",
       "      <td>0.39754</td>\n",
       "    </tr>\n",
       "  </tbody>\n",
       "</table>\n",
       "</div>"
      ],
      "text/plain": [
       "     5       20      50      100      100000\n",
       "1回目     0.4    0.50    0.48    0.38  0.39842\n",
       "2回目     0.2    0.40    0.40    0.46  0.40425\n",
       "3回目     0.4    0.45    0.36    0.36  0.39755\n",
       "4回目     0.4    0.25    0.40    0.40  0.39754"
      ]
     },
     "execution_count": 6,
     "metadata": {},
     "output_type": "execute_result"
    }
   ],
   "source": [
    "# 0.4の確率で1を取り、0.6の確率で0を取る二項分布の結果を生成\n",
    "experiments = [np.random.binomial(1, 0.4, 100000) for i in range(4)]\n",
    "n_trials = [5, 20, 50, 100, 100000]\n",
    "results = {f'{i+1}回目':[np.mean(e[:n]) for n in n_trials] for i, e in enumerate(experiments)}\n",
    "df = pd.DataFrame(results).T\n",
    "df.rename(columns={c:n for c,n in zip(df.columns, n_trials)}, inplace=True)\n",
    "df"
   ]
  },
  {
   "attachments": {},
   "cell_type": "markdown",
   "metadata": {},
   "source": [
    "### 1.2.2 分割\n",
    "\n",
    "分割: 各事象が共通の根元事象を持たない事象の組み合わせ\n",
    "\n",
    "$A_1, A_2, \\cdots, A_a$が分割である時、以下が成立する。\n",
    "\n",
    "$$\n",
    "\\sum\\limits_{i=1}^{a} p(A_i) = 1\n",
    "$$"
   ]
  },
  {
   "attachments": {},
   "cell_type": "markdown",
   "metadata": {},
   "source": [
    "### 1.2.3 同時確率\n",
    "\n",
    "さらに分割$B_1, B_2,\\cdots,B_b$を考えたとき、$A_i$と$B_j$が同時に観察される確率は$p(A_i, B_j)$で表され、これを同時確率(joint probability)と呼ぶ。\n",
    "\n",
    "1.2.2の式をさらに拡張して(1次元から2次元へ)、以下が成立する。\n",
    "\n",
    "$$\n",
    "\\sum\\limits_{i=1}^{a} \\sum\\limits_{j=1}^{b} p(A_i, B_j) = 1\n",
    "$$\n",
    "\n",
    "3つの分割がある場合も、同様にして拡張を行えばよく、以下が成立する。\n",
    "\n",
    "$$\n",
    "\\sum\\limits_{i=1}^{a} \\sum\\limits_{j=1}^{b} \\sum\\limits_{k=1}^{c}  p(A_i, B_j, C_k) = 1\n",
    "$$\n"
   ]
  },
  {
   "attachments": {},
   "cell_type": "markdown",
   "metadata": {},
   "source": [
    "### 1.2.4 周辺確率\n",
    "\n",
    "同時確率で、ある分割におけるすべての和を取ると、1変数を消去したことになり、その他の変数が残ることになる。これを周辺確率(marginal probability)と呼ぶ。\n",
    "\n",
    "$$\n",
    "\\sum\\limits_{i=1}^{a}  p(A_i, B_j) = p(B_j)\n",
    "$$\n",
    "\n",
    "$$\n",
    "\\sum\\limits_{j=1}^{b} p(A_i, B_j) = p(A_i)\n",
    "$$\n",
    "\n",
    "分割が3つの場合も、同様の式が導かれる。\n",
    "\n",
    "$$\n",
    "\\sum\\limits_{i=1}^{a} p(A_i, B_j, C_k) = p(B_j, C_k)\n",
    "$$\n",
    "\n",
    "$$\n",
    "\\sum\\limits_{i=1}^{a} \\sum\\limits_{j=1}^{b}  p(A_i, B_j, C_k) = p(C_k)\n",
    "$$"
   ]
  },
  {
   "attachments": {},
   "cell_type": "markdown",
   "metadata": {},
   "source": [
    "### 1.2.5 条件付き確率\n",
    "\n",
    "$A_i$が観測された条件のもとで、さらに$B_j$が観測される条件、すなわち条件付き確率(condition probability)は、以下の式で表される。\n",
    "\n",
    "$$\n",
    "p(B_j|A_i) = \\frac{p(B_j, A_i)}{p(A_i)}\n",
    "$$\n",
    "\n",
    "つまり、すでに$A_i$は確定しているので、これから起こりうるのは$B_1,\\cdots,B_j$だけになって、分母には$\\sum\\limits_{j=1}^{b} p(A_i, B_j) = p(A_i)$が来る。\n",
    "\n",
    "同様にして、3つの分割を考えるとき、$A_i$がすでに観測されている場合の条件付き確率は以下になる。\n",
    "\n",
    "$$\n",
    "p(B_j, C_k | A_i) = \\frac{p(B_j, C_k)}{p(A_i)}\n",
    "$$\n",
    "\n",
    "また、$A_i, B_j$が観測されている際には、条件付き確率は以下になる。\n",
    "\n",
    "$$\n",
    "p(C_k|A_i, B_j) = \\frac{p(A_i,B_j,C_k)}{p(A_i, B_j)}\n",
    "$$"
   ]
  },
  {
   "attachments": {},
   "cell_type": "markdown",
   "metadata": {},
   "source": [
    "### 1.2.6 乗法定理・全確率の公式\n",
    "\n",
    "条件付き確率の式を移行移行して求まる以下の式は、乗法定理(multiplication theorem of probability)と呼ばれる。\n",
    "\n",
    "$$\n",
    "p(A_i, B_j) = p(B_j|A_i) p(A_i) \n",
    "$$\n",
    "\n",
    "また、以下の式は全確率の定理(law of total probability)と呼ばれる。\n",
    "\n",
    "$$\n",
    "\\sum\\limits_{i=1}^{a} p(B_j|A_i) p(A_i) = 1\n",
    "$$"
   ]
  },
  {
   "attachments": {},
   "cell_type": "markdown",
   "metadata": {},
   "source": [
    "## 1.3 ベイズの定理\n",
    "\n",
    "ベイズの定理は、以下の式で表される。\n",
    "\n",
    "$$\n",
    "p(A_i|B_j) = \\frac{p(B_j|A_i)p(A_i)}{p(B_j)}\n",
    "$$\n",
    "\n",
    "右辺の$p(A_i)$を事前確率(prior probability)、左辺の$p(A_i|B_j)$を事後確率(posterior probability)と呼ぶ。"
   ]
  },
  {
   "attachments": {},
   "cell_type": "markdown",
   "metadata": {},
   "source": [
    "### 1.3.1 健診問題\n",
    "\n",
    "以下の健診問題を考える。\n",
    "\n",
    "> ある国の病気Aは、1万人あたり40人の割合でかかっていることが知られています。\n",
    "> 病気Aにかかっている人が健診Bを受けると8割の確率で陽性となります。\n",
    "> 健常な人が健診Bを受けると9割の確率で陰性となります。\n",
    "> 健診Bによって陽性と判定された場合、その受信者が病気Aにかかっている確率はどれほどでしょうか？\n",
    "\n",
    "各事象を以下のように定める。\n",
    "\n",
    "- $A_1$: 病気にかかっている\n",
    "- $A_2$: 病気にかかっていない\n",
    "- $B_1$: 陽性判定\n",
    "- $B_2$: 陰性判定\n",
    "\n",
    "ベイズの定理より、\"<i>健診Bによって陽性と判定された場合$(B_1)$の、その受信者が病気Aにかかっている($A_1$)確率</i>\"は、以下の式で表される。\n",
    "\n",
    "$$\n",
    "p(A_1|B_1) = \\frac{p(A_1, B_1) }{p(B_1)}\n",
    "$$\n",
    "\n",
    "$p(B_1)$は、周辺確率になるので、以下の式によって求まる。\n",
    "\n",
    "$$\n",
    "p(B_1) = p(A_1, B_1) + p(A_2, B_1)\n",
    "$$\n",
    "\n",
    "以下の式が成立することに注意して、最終的な式を求める。\n",
    "\n",
    "$$\n",
    "p(A_1, B_1) = p(B_1|A_1)p(A_1) \\\\\n",
    "p(A_1, B_2) = p(B_1|A_2)p(A_2)\n",
    "$$\n",
    "\n",
    "$$\n",
    "p(A_1|B_1) = \\frac{p(B_1|A_1)p(A_1)}{p(B_1|A_1)p(A_1) + p(B_1|A_2) p(A_2)}\n",
    "$$\n",
    "\n",
    "- $p(A_1)$: 40/10000\n",
    "- $p(A_2)$: 1-40/10000\n",
    "- $p(B_1|A_1)$: 0.8\n",
    "- $p(B_1|A_2)$: 1-0.9"
   ]
  },
  {
   "cell_type": "code",
   "execution_count": 7,
   "metadata": {},
   "outputs": [
    {
     "name": "stdout",
     "output_type": "stream",
     "text": [
      "ans: 0.0311\n"
     ]
    }
   ],
   "source": [
    "p_a1 = 40/10_000\n",
    "p_a2 = 1-p_a1\n",
    "p_conditional_b1_a1 = 0.8\n",
    "p_conditional_b1_a2 = 1-0.9\n",
    "ans = (p_conditional_b1_a1*p_a1) / (p_conditional_b1_a1*p_a1 + p_conditional_b1_a2*p_a2)\n",
    "print(f'ans: {ans:.3}')"
   ]
  },
  {
   "attachments": {},
   "cell_type": "markdown",
   "metadata": {},
   "source": [
    "陽性という判定を仮に受けたとしても、実際に病気に罹っている確率は3%しかない。"
   ]
  },
  {
   "attachments": {},
   "cell_type": "markdown",
   "metadata": {},
   "source": [
    "### 1.3.2 逆確率\n",
    "\n",
    "先の問題では、答えを求める式に$p(B_1|A_1)$と$p(B_1|A_2)$が出現することが自然であることに注意する。\n",
    "なぜなら、現実の状況においては、まず医師が病気かどうかを判定したのち(つまり、条件Aが確定したのち)、健診にかけて陽性・陰性の判定を確認することが自然だからだ。\n",
    "\n",
    "そして、求める式が$p(A_1|B_1)$であることも自然である。\n",
    "なぜなら、観測されているのは、$B_1$であるからだ。\n",
    "\n",
    "一方でこの問題では、原因は\"病気\"で、結果は\"健診の診断結果\"なのだから、$p(A_1|B_1)$は、結果をもとに原因を求める確率であるといえる。\n",
    "因果関係が逆転していることから、これを<b>逆確率(inverse probability)</b>と呼ぶ。"
   ]
  },
  {
   "attachments": {},
   "cell_type": "markdown",
   "metadata": {},
   "source": [
    "### 1.3.3 独立\n",
    "\n",
    "事象$A_i$が事象$B_j$の結果に影響を与えない場合、以下の式が成立する。\n",
    "\n",
    "$$\n",
    "p(A_i|B_j) = p(B_j|A_i)\\\\\n",
    "p(A_i,B_j) = p(A_i)p(B_j)\n",
    "$$\n",
    "\n",
    "また、事象$A$が観測された条件のもとで、$B,C$が独立な場合、以下の式が成立する。\n",
    "\n",
    "$$\n",
    "p(B,C|A) = p(B|A) p(C|A)\n",
    "$$"
   ]
  },
  {
   "attachments": {},
   "cell_type": "markdown",
   "metadata": {},
   "source": [
    "### 1.3.4 ベイズ更新\n",
    "\n",
    "事象$A$を知るための観測結果$B, C$が得られたとし、$B$と$C$が独立な場合を考える。\n",
    "事後確率は以下のように計算される。\n",
    "\n",
    "\\begin{aligned}\n",
    "p(A|B,C)&=\\frac{p(B, C|A)p(A)}{p(B,C)}\\\\\n",
    "&=\\frac{p(B|A)p(C|A)}{p(B)p(C)} (\\because B,Cは独立)\\\\\n",
    "&=\\frac{p(C|A)}{p(C)} \\cdot \\frac{p(B|A)p(A)}{p(B)}\\\\\n",
    "&=\\frac{p(C|A)}{p(C)} \\cdot p(A|B)\n",
    "\\end{aligned}\n",
    "\n",
    "上の式では、Bが分かった時点での事後確率$p(A|B)$が現れていることが分かる。\n",
    "従って、例えば事象$B$が確定したのち、事象$C$が確定したというような際には、まず$p(A|B)$を計算しておき、その後の事象$C$確定後に、$\\frac{p(C|A)}{p(C)}$をかけ合わせることで、最終的な事後確率$p(A|B,C)$を計算可能である。\n",
    "このように、事後確率は帰納的に求めていくことができる。\n",
    "曰く、「<i>今日の事後分布は、明日の事前分布</i>」。\n",
    "これを<b>ベイズ更新(Bayesian updating)</b>と呼ぶ。"
   ]
  },
  {
   "attachments": {},
   "cell_type": "markdown",
   "metadata": {},
   "source": [
    "### 1.3.5 迷惑メールフィルタ\n",
    "\n",
    "「絶対必勝」,「完全無料」,「投資指南」,「急騰予想」の4つの単語が含まれたメールが迷惑メールかどうかを判定することを考える。\n",
    "過去のデータから、それぞれの単語が含まれているときの迷惑メール及び非迷惑メールである確率は以下である。"
   ]
  },
  {
   "cell_type": "code",
   "execution_count": 8,
   "metadata": {},
   "outputs": [
    {
     "data": {
      "text/html": [
       "<div>\n",
       "<style scoped>\n",
       "    .dataframe tbody tr th:only-of-type {\n",
       "        vertical-align: middle;\n",
       "    }\n",
       "\n",
       "    .dataframe tbody tr th {\n",
       "        vertical-align: top;\n",
       "    }\n",
       "\n",
       "    .dataframe thead th {\n",
       "        text-align: right;\n",
       "    }\n",
       "</style>\n",
       "<table border=\"1\" class=\"dataframe\">\n",
       "  <thead>\n",
       "    <tr style=\"text-align: right;\">\n",
       "      <th></th>\n",
       "      <th>迷惑メール</th>\n",
       "      <th>非迷惑メール</th>\n",
       "    </tr>\n",
       "  </thead>\n",
       "  <tbody>\n",
       "    <tr>\n",
       "      <th>絶対必勝</th>\n",
       "      <td>0.11</td>\n",
       "      <td>0.01</td>\n",
       "    </tr>\n",
       "    <tr>\n",
       "      <th>完全無料</th>\n",
       "      <td>0.12</td>\n",
       "      <td>0.02</td>\n",
       "    </tr>\n",
       "    <tr>\n",
       "      <th>投資指南</th>\n",
       "      <td>0.15</td>\n",
       "      <td>0.01</td>\n",
       "    </tr>\n",
       "    <tr>\n",
       "      <th>急騰予想</th>\n",
       "      <td>0.13</td>\n",
       "      <td>0.02</td>\n",
       "    </tr>\n",
       "  </tbody>\n",
       "</table>\n",
       "</div>"
      ],
      "text/plain": [
       "      迷惑メール  非迷惑メール\n",
       "絶対必勝   0.11    0.01\n",
       "完全無料   0.12    0.02\n",
       "投資指南   0.15    0.01\n",
       "急騰予想   0.13    0.02"
      ]
     },
     "execution_count": 8,
     "metadata": {},
     "output_type": "execute_result"
    }
   ],
   "source": [
    "df = pd.DataFrame(\n",
    "    {\n",
    "        '迷惑メール': [0.11, 0.12, 0.15, 0.13],\n",
    "        '非迷惑メール': [0.01, 0.02, 0.01, 0.02]\n",
    "    },\n",
    "    index=['絶対必勝', '完全無料', '投資指南', '急騰予想']\n",
    ")\n",
    "df"
   ]
  },
  {
   "attachments": {},
   "cell_type": "markdown",
   "metadata": {},
   "source": [
    "それぞれの単語が含まれているかどうかに関わらず、そもそも、すべてのメールの中で迷惑メールが含まれる確率は0.6であるとする。\n",
    "すると、ベイズ更新を用いて以下のように、迷惑メールである確率を求めていくことができる。"
   ]
  },
  {
   "cell_type": "code",
   "execution_count": 9,
   "metadata": {},
   "outputs": [
    {
     "name": "stdout",
     "output_type": "stream",
     "text": [
      "initial: 0.60000\n",
      "絶対必勝: 0.94286\n",
      "完全無料: 0.99000\n",
      "投資指南: 0.99933\n",
      "急騰予想: 0.99990\n"
     ]
    }
   ],
   "source": [
    "p = 0.6\n",
    "print(f'initial: {p:.5f}')\n",
    "for i, row in df.iterrows():\n",
    "    p = p * row['迷惑メール'] / (p*row['迷惑メール'] + (1-p)*row['非迷惑メール'])\n",
    "    print(f'{i}: {p:.5f}')"
   ]
  },
  {
   "attachments": {},
   "cell_type": "markdown",
   "metadata": {},
   "source": [
    "## 1.4 主観確率\n",
    "\n",
    "ベイズ統計は長らく統計の分野でタブー視されてきた。ここまでの説明内容は、統計学全体で認められている内容ではあるものの、以降の内容でベイズ統計に対する異論が生じる。"
   ]
  },
  {
   "attachments": {},
   "cell_type": "markdown",
   "metadata": {},
   "source": [
    "### 1.4.1 客観確率による事前確率\n",
    "\n",
    "ベイズの定理における事前確率に客観確率を用いれば、それは頻度主義的な観点からも正しい。\n",
    "先の例の迷惑メールの事前確率は、頻度に基づく客観確率であり、何の問題もない。"
   ]
  },
  {
   "attachments": {},
   "cell_type": "markdown",
   "metadata": {},
   "source": [
    "### 1.4.2 一期一会な事象\n",
    "\n",
    "問題となるのは、事前確率に主観確率を用いる場合である。\n",
    "何度も試行を繰り返すことのできる事象は、データ数を増やすことで、事前確率に客観確率を当てはめることができる。\n",
    "しかしながら、そうではない場合、客観確率を知ることはできず、主観確率を用いることになる。"
   ]
  },
  {
   "attachments": {},
   "cell_type": "markdown",
   "metadata": {},
   "source": [
    "### 1.4.3 理由不十分の原則\n",
    "\n",
    "以下の問題を考える。\n",
    "\n",
    "碁石問題\n",
    "> 真っ暗な部屋に同じ形の3つの壺、赤い壺・青い壺・緑の壺が置いてあります。\n",
    "> 壺の中には、形・大きさ・手触り・重さの全く等しい碁石が、それぞれ10個入っています。\n",
    "> そのうち黒い碁石は、それぞれ3個・4個・5個です。\n",
    "> 手探りで1つの壺を選び、その壺から碁石を1つ取り出しました。\n",
    "> 明るい部屋に移動し、碁石の色を確認すると黒でした。\n",
    "> 選んだ壺が赤い壺であった確率を求めてください。\n",
    "\n",
    "求める確率は以下の式で求められる。\n",
    "\n",
    "\\begin{aligned}\n",
    "p(赤い壺|黒)&=\\frac{p(赤い壺、黒)}{p(赤い壺、黒)+p(青い壺、黒)+p(緑の壺、黒)}\\\\\n",
    "&=\\frac{p(赤い壺)\\cdot 3/10}{p(赤い壺)\\cdot 3/10 + p(青い壺)\\cdot 4/10 + p(緑の壺)\\cdot 5/10}\\\\\n",
    "\\end{aligned}\n",
    "\n",
    "もちろん問題となるのは、$p(赤い壺),p(青い壺),p(緑の壺)$である。\n",
    "もしこの問題で、大学入試の如く「壺の選ぶ確率は同様に確からしい」という条件が与えられているのなら、$p(赤い壺)=p(青い壺)=p(緑の壺)=1/3$とすれば良い。\n",
    "しかし、現実の問題では、このようには各確率が等しくない場合も多々ある。\n",
    "もしかしたら、この碁石問題の状況では、各壺までの距離が異なっていて、各壺を選ぶ確率はそれぞれ異なるかもしれない。\n",
    "\n",
    "各壺を選ぶ確率は、何回も試行を繰り返すことにより客観確率として求まるが、そのような実験をするには手間である。\n",
    "そこで、<i>仕方なく</i>各確率は同様に確からしいのだとして、$p(赤い壺)=p(青い壺)=p(緑の壺)=1/3$とすることを、<b>理由不十分の原則</b>と呼ぶ。\n",
    "<u>理由不十分の原則によって選ばれた確率は、必ずしもフェアであるとは限らない。</u>"
   ]
  },
  {
   "attachments": {},
   "cell_type": "markdown",
   "metadata": {},
   "source": [
    "### 1.4.4 血液鑑定問題\n",
    "\n",
    "血液鑑定問題\n",
    "> 東京で殺人事件が起きました。\n",
    "> 現場に残された犯人の血液を鑑定した結果、この町に住むA氏の血液と特徴が一致しました。\n",
    "> それは10万人に1人という高い一致率です。\n",
    "> 他に証拠は全くありません。\n",
    "> このときA氏が犯人である確率を求めてください。\n",
    "\n",
    "先ほどと同様にA氏が犯人である確率を求めると、以下のようになる。\n",
    "\n",
    "\\begin{aligned}\n",
    "p(犯人|一致)&=\\frac{p(犯人)}{p(犯人) + (1-p(犯人))\\cdot 1/100000}\n",
    "\\end{aligned}\n",
    "\n",
    "少しわかりづらいので補足しておくと、健診問題と異なり、ここでは血液鑑定は100%の確率で的中すると考える。\n",
    "その上で、犯人の血液が本当にA氏の血液の特徴と同じならば、$p(一致|犯人)=1$となる。\n",
    "しかし、血液の特徴がたまたま一緒なだけで、実際には犯人ではないという場合もありうるので、$(1-p(犯人))\\cdot 1/100000$が分母に足される。\n",
    "\n",
    "様々な$p(犯人)$を様々に変えた際の$p(犯人|一致)$を考えてみる。"
   ]
  },
  {
   "cell_type": "code",
   "execution_count": 10,
   "metadata": {},
   "outputs": [],
   "source": [
    "def calc_posterior(prior):\n",
    "    return prior/(prior + (1-prior)/100_000)"
   ]
  },
  {
   "attachments": {},
   "cell_type": "markdown",
   "metadata": {},
   "source": [
    "#### 理由不十分の原則\n",
    "\n",
    "理由不十分の原則に基づいて、$p(犯人)=1/2$を割り当てると、99.999%の確率でA氏は犯人である。\n",
    "しかし、本当にそうであろうか？"
   ]
  },
  {
   "cell_type": "code",
   "execution_count": 11,
   "metadata": {},
   "outputs": [
    {
     "name": "stdout",
     "output_type": "stream",
     "text": [
      "0.5 0.9999900000999989\n"
     ]
    }
   ],
   "source": [
    "prior_prob = 1/2\n",
    "print(prior_prob, calc_posterior(prior_prob))"
   ]
  },
  {
   "attachments": {},
   "cell_type": "markdown",
   "metadata": {},
   "source": [
    "#### 反例1\n",
    "\n",
    "日本では、10万人に一人が殺人を犯す。\n",
    "そこで、$p(犯人)=1/100000$を割り当てる。\n",
    "\n",
    "すると、p(犯人|一致)の確率は50%である。"
   ]
  },
  {
   "cell_type": "code",
   "execution_count": 12,
   "metadata": {},
   "outputs": [
    {
     "name": "stdout",
     "output_type": "stream",
     "text": [
      "1e-05 0.5000025000125\n"
     ]
    }
   ],
   "source": [
    "prior_prob = 1/100_000\n",
    "print(prior_prob, calc_posterior(prior_prob))"
   ]
  },
  {
   "attachments": {},
   "cell_type": "markdown",
   "metadata": {},
   "source": [
    "#### 反例2\n",
    "\n",
    "殺人現場である東京にアクセス可能な人は、3700万人なので、$p(犯人)=1/37,000,000$が妥当であると考える。\n",
    "\n",
    "すると、$p(犯人|一致)$は2.7%である。"
   ]
  },
  {
   "cell_type": "code",
   "execution_count": 13,
   "metadata": {},
   "outputs": [
    {
     "name": "stdout",
     "output_type": "stream",
     "text": [
      "1e-05 0.002695417862410185\n"
     ]
    }
   ],
   "source": [
    "prior = 1/37_000_000\n",
    "print(prior_prob, calc_posterior(prior))"
   ]
  },
  {
   "attachments": {},
   "cell_type": "markdown",
   "metadata": {},
   "source": [
    "#### 様々なp(犯人)におけるp(犯人|一致)\n",
    "\n",
    "以下に、事前確率を様々に変化させた時の事後確率を示す。\n",
    "\n",
    "x軸を対数プロットした2番目のグラフのほうが分かりやすい。\n",
    "事前確率が様々に変化すると、事後確率も全く異なってくる。\n",
    "事前確率が恣意的に決まるようだと、事後確率は客観的な値として意味を持たないことになり、問題である。"
   ]
  },
  {
   "cell_type": "code",
   "execution_count": 14,
   "metadata": {},
   "outputs": [
    {
     "data": {
      "image/png": "[encoded data removed]",
      "text/plain": [
       "<Figure size 2000x400 with 1 Axes>"
      ]
     },
     "metadata": {},
     "output_type": "display_data"
    }
   ],
   "source": [
    "priors = np.logspace(-100, 0, 10000000)\n",
    "posteriors = calc_posterior(priors)\n",
    "fig = plt.figure(figsize=(20, 4))\n",
    "ax = fig.add_subplot()\n",
    "ax.plot(priors, posteriors)\n",
    "ax.set_xlabel('Prior Probability')\n",
    "ax.set_ylabel('Posterior Probability')\n",
    "plt.show()\n"
   ]
  },
  {
   "cell_type": "code",
   "execution_count": 15,
   "metadata": {},
   "outputs": [
    {
     "data": {
      "image/png": "[encoded data removed]",
      "text/plain": [
       "<Figure size 2000x400 with 1 Axes>"
      ]
     },
     "metadata": {},
     "output_type": "display_data"
    }
   ],
   "source": [
    "fig = plt.figure(figsize=(20, 4))\n",
    "ax = fig.add_subplot()\n",
    "ax.plot(priors, posteriors)\n",
    "ax.set_xlabel('Prior Probability (Log Scale)')\n",
    "ax.set_ylabel('Posterior Probability')\n",
    "ax.set_xscale('log')\n",
    "plt.axhline(y=0.5, color='r', linestyle='--')\n",
    "plt.show()"
   ]
  },
  {
   "attachments": {},
   "cell_type": "markdown",
   "metadata": {},
   "source": [
    "### 1.4.5 事前確率を圧倒するデータ\n",
    "\n",
    "上述のように、事前確率に対して事後確率は変化する。\n",
    "しかしながら、事前確率が不適切に定められてしまっても、客観的なデータを通じて十分な回数のベイズ更新を行えば、事後確率は最終的に同じ値へ収束する。\n",
    "\n",
    "今、迷惑メールAが存在し、その中にB,C,...,Hという単語が含まれていたとする。そして、それぞれの単語xが迷惑メールに含まれている確率が1/10($p(x|迷惑メール)=1/10$)、迷惑メールでないメールに含まれている確率が1/100($p(x|迷惑メールでない)=1/100$)であるとする。\n",
    "\n",
    "すると、それぞれの単語が含まれている時の事後確率は以下のようになる。\n",
    "\n",
    "\\begin{aligned}\n",
    "p(Aが迷惑メール|x) &= \\frac{p(x|Aが迷惑メール) \\cdot p(Aが迷惑メール)}{p(x|Aが迷惑メール) \\cdot p(Aが迷惑メール) + p(x|Aが迷惑メールでない) \\cdot (1-p(Aが迷惑メール))}\n",
    "\\end{aligned}\n",
    "\n",
    "ここで、事前確率$p(Aが迷惑メール)$には、主観確率として様々な値を設定可能に思われる。\n",
    "しかし、今メールにはB,C,...,Hという7単語が含まれており、それぞれの単語によりベイズ更新がなされる。\n",
    "様々な事前確率にたいして7回のベイズ更新の結果を示したのが以下である。\n",
    "\n",
    "事前確率に関わらず、ベイズ更新によって事後確率は同様の値になることが確認できる。"
   ]
  },
  {
   "cell_type": "code",
   "execution_count": 16,
   "metadata": {},
   "outputs": [],
   "source": [
    "def calc_posterior(prior):\n",
    "    return (prior/10) / (prior/10 + (1-prior)/100) "
   ]
  },
  {
   "cell_type": "code",
   "execution_count": 27,
   "metadata": {},
   "outputs": [
    {
     "data": {
      "text/html": [
       "<div>\n",
       "<style scoped>\n",
       "    .dataframe tbody tr th:only-of-type {\n",
       "        vertical-align: middle;\n",
       "    }\n",
       "\n",
       "    .dataframe tbody tr th {\n",
       "        vertical-align: top;\n",
       "    }\n",
       "\n",
       "    .dataframe thead th {\n",
       "        text-align: right;\n",
       "    }\n",
       "</style>\n",
       "<table border=\"1\" class=\"dataframe\">\n",
       "  <thead>\n",
       "    <tr style=\"text-align: right;\">\n",
       "      <th></th>\n",
       "      <th>B</th>\n",
       "      <th>C</th>\n",
       "      <th>D</th>\n",
       "      <th>E</th>\n",
       "      <th>F</th>\n",
       "      <th>G</th>\n",
       "      <th>H</th>\n",
       "    </tr>\n",
       "  </thead>\n",
       "  <tbody>\n",
       "    <tr>\n",
       "      <th>0.01</th>\n",
       "      <td>0.091743</td>\n",
       "      <td>0.502513</td>\n",
       "      <td>0.909918</td>\n",
       "      <td>0.990197</td>\n",
       "      <td>0.999011</td>\n",
       "      <td>0.999901</td>\n",
       "      <td>0.999990</td>\n",
       "    </tr>\n",
       "    <tr>\n",
       "      <th>0.05</th>\n",
       "      <td>0.344828</td>\n",
       "      <td>0.840336</td>\n",
       "      <td>0.981354</td>\n",
       "      <td>0.998104</td>\n",
       "      <td>0.999810</td>\n",
       "      <td>0.999981</td>\n",
       "      <td>0.999998</td>\n",
       "    </tr>\n",
       "    <tr>\n",
       "      <th>0.10</th>\n",
       "      <td>0.526316</td>\n",
       "      <td>0.917431</td>\n",
       "      <td>0.991080</td>\n",
       "      <td>0.999101</td>\n",
       "      <td>0.999910</td>\n",
       "      <td>0.999991</td>\n",
       "      <td>0.999999</td>\n",
       "    </tr>\n",
       "    <tr>\n",
       "      <th>0.20</th>\n",
       "      <td>0.714286</td>\n",
       "      <td>0.961538</td>\n",
       "      <td>0.996016</td>\n",
       "      <td>0.999600</td>\n",
       "      <td>0.999960</td>\n",
       "      <td>0.999996</td>\n",
       "      <td>1.000000</td>\n",
       "    </tr>\n",
       "    <tr>\n",
       "      <th>0.30</th>\n",
       "      <td>0.810811</td>\n",
       "      <td>0.977199</td>\n",
       "      <td>0.997672</td>\n",
       "      <td>0.999767</td>\n",
       "      <td>0.999977</td>\n",
       "      <td>0.999998</td>\n",
       "      <td>1.000000</td>\n",
       "    </tr>\n",
       "    <tr>\n",
       "      <th>0.40</th>\n",
       "      <td>0.869565</td>\n",
       "      <td>0.985222</td>\n",
       "      <td>0.998502</td>\n",
       "      <td>0.999850</td>\n",
       "      <td>0.999985</td>\n",
       "      <td>0.999999</td>\n",
       "      <td>1.000000</td>\n",
       "    </tr>\n",
       "    <tr>\n",
       "      <th>0.50</th>\n",
       "      <td>0.909091</td>\n",
       "      <td>0.990099</td>\n",
       "      <td>0.999001</td>\n",
       "      <td>0.999900</td>\n",
       "      <td>0.999990</td>\n",
       "      <td>0.999999</td>\n",
       "      <td>1.000000</td>\n",
       "    </tr>\n",
       "  </tbody>\n",
       "</table>\n",
       "</div>"
      ],
      "text/plain": [
       "             B         C         D         E         F         G         H\n",
       "0.01  0.091743  0.502513  0.909918  0.990197  0.999011  0.999901  0.999990\n",
       "0.05  0.344828  0.840336  0.981354  0.998104  0.999810  0.999981  0.999998\n",
       "0.10  0.526316  0.917431  0.991080  0.999101  0.999910  0.999991  0.999999\n",
       "0.20  0.714286  0.961538  0.996016  0.999600  0.999960  0.999996  1.000000\n",
       "0.30  0.810811  0.977199  0.997672  0.999767  0.999977  0.999998  1.000000\n",
       "0.40  0.869565  0.985222  0.998502  0.999850  0.999985  0.999999  1.000000\n",
       "0.50  0.909091  0.990099  0.999001  0.999900  0.999990  0.999999  1.000000"
      ]
     },
     "execution_count": 27,
     "metadata": {},
     "output_type": "execute_result"
    }
   ],
   "source": [
    "priors = [0.01, 0.05, 0.1, 0.2, 0.3, 0.4, 0.5]\n",
    "columns = ['B', 'C', 'D', 'E', 'F', 'G', 'H']\n",
    "res = {}\n",
    "for p in priors:\n",
    "    posteriors = [p]\n",
    "    for i in range(len(columns)):\n",
    "        posteriors.append(calc_posterior(posteriors[-1]))\n",
    "    res[p] = posteriors\n",
    "    posteriors.pop(0)\n",
    "df = pd.DataFrame(res).T\n",
    "df.rename(columns={i: c for i, c in enumerate(columns)}, inplace=True)\n",
    "df"
   ]
  },
  {
   "cell_type": "code",
   "execution_count": 50,
   "metadata": {},
   "outputs": [
    {
     "data": {
      "image/png": "[encoded data removed]",
      "text/plain": [
       "<Figure size 2000x400 with 1 Axes>"
      ]
     },
     "metadata": {},
     "output_type": "display_data"
    }
   ],
   "source": [
    "fig = plt.figure(figsize=(20,4))\n",
    "ax = fig.add_subplot()\n",
    "for idx, row in df.iterrows():\n",
    "    ax.plot([idx]+row.tolist(), label=idx)\n",
    "ax.legend()\n",
    "ax.set_xlabel('The Number of Bayesian Updates')\n",
    "ax.set_ylabel('Posterior')\n",
    "plt.show()"
   ]
  },
  {
   "attachments": {},
   "cell_type": "markdown",
   "metadata": {},
   "source": [
    "#### 1.4.6 私的分析と公的分析\n",
    "\n",
    "主観確率を特徴の1つとするベイズ統計は、2種の分析に分類することができる。\n",
    "\n",
    "1つは、<b>私的分析(private analysis)</b>で、事後確率の高速な計算に重きをおく。\n",
    "事後確率の客観的な正しさは二の次とすることが多い。\n",
    "\n",
    "一方で、<b>公的分析(public analysis)</b>では、分析の客観性が重視され、科学論文での分析などに使用される。"
   ]
  },
  {
   "attachments": {},
   "cell_type": "markdown",
   "metadata": {},
   "source": [
    "<!-- #### 1.4.7 ベイズの定理の第3の使用法\n",
    "\n",
    "ベイズの定理は、以下の式で表されるのであった。\n",
    "\n",
    "$$\n",
    "p(A|B) = \\frac{p(B|A)p(A)}{p(B)}\n",
    "$$\n",
    "\n",
    "ここで、条件付き確率$p(B|A)$と事前確率$p(B)$に主観確率と客観確率のどちらかを使用するかによって、使用法を3つに分けることができる。\n",
    "\n",
    "1つ目は、条件付き確率と事前確率の両方に客観確率を用いる使用法である。\n",
    "これは伝統的な統計学の考え方に基づく方法で、先の検診問題ではこの使用法を用いた。\n",
    "\n",
    "2つ目は、条件付き確率には客観確率を用い、事前確率には主観確率を用いる方法である。\n",
    "これは伝統的な統計学に反する使用法であり、碁石問題と血液鑑定問題ではこの使用法を用いた。\n",
    "\n",
    "3つ目は、条件付き確率にも事前確率にも主観確率を用いる方法である。\n",
    "以下の3囚人問題を考える。\n",
    "\n",
    "> ある監獄に、罪状はいずれも似たり寄ったりである3人の死刑囚A,B,Cがそれぞれ独房に入れられています。\n",
    "> 3人まとめて処刑される予定でしたが、1人が恩赦になって釈放され、残り2人が処刑されることとなりました。\n",
    "> 誰が恩赦になるか知っている看守に「私は助かるのか」と囚人が聞いても看守は答えてくれません。\n",
    "> そこで、Aは「BとCのうち少なくとも1人処刑されるのは確実なのだから、2人の中で処刑される1人の名前を教えてくれても私についての情報を与えることにはならないだろう。1人を教えてくれないか」と頼みました。\n",
    "> 看守はAの言い分に納得して、「Bは処刑される」と答えました。\n",
    "> それを聞いたAは「これで自分が助かる確率は1/3から1/2に増えた」と喜びました。\n",
    "> 実際には、この答えを聞いた後、Aの釈放される確率はいくらになるでしょうか。\n",
    "\n",
    "ここで、Xが釈放される事象を$X_a$、処刑される確率を$X_d$と置くと、事後確率は以下のようになる。\n",
    "\n",
    "\\begin{aligned}\n",
    "p(A_a|B_d) = \\frac{p(B_d|A_a)p(A_a)}{p(B_d)}\n",
    "\\end{aligned}\n",
    "\n",
    "ここで、p(B_d)として考えられるのは、Bが死亡してかつ、AまたはCが釈放される確率なので、以下のようになる。\n",
    "\n",
    "\\begin{aligned}\n",
    "p(B_d) = p(B_d|A_a)p(A_a) + p(B_d|C_a)p(C_a)\n",
    "\\end{aligned}\n",
    "\n",
    "ここで、たとえばBが死亡してAも死亡するなどといった確率は$p(B_d|C_a)p(C_a)$と同じことなので、考える必要がないことに注意する。\n",
    "\n",
    "理由不十分の原則より、$p(X_a)=1/3$とするのが妥当である。\n",
    "また、Aが生存する時、BまたはCのどちらかが処刑されることになるが、これも理由不十分の原則より$p(B_d|A_a)=1/2$とする。\n",
    "\n",
    "従って最終的な事後確率は、$p(A_a|B_d)=1/2$と計算される。 -->"
   ]
  },
  {
   "attachments": {},
   "cell_type": "markdown",
   "metadata": {},
   "source": [
    "## 復習用まとめ\n",
    "\n",
    "- 分割とは?\n",
    "- 同時確率とは？\n",
    "- 周辺確率とは？\n",
    "- 条件付き確率とは？\n",
    "- 乗法定理とは？\n",
    "- 全確率の公式とは？\n",
    "- ベイズの定理とは？\n",
    "- B,Cが独立で、Aが観測された時の条件付き確率\n",
    "- ベイズ更新の導出\n",
    "- 理由不十分の原則とは？"
   ]
  },
  {
   "cell_type": "code",
   "execution_count": null,
   "metadata": {},
   "outputs": [],
   "source": []
  }
 ],
 "metadata": {
  "kernelspec": {
   "display_name": "Bayesian-Statistics-from-Basics-with-HMC",
   "language": "python",
   "name": "python3"
  },
  "language_info": {
   "codemirror_mode": {
    "name": "ipython",
    "version": 3
   },
   "file_extension": ".py",
   "mimetype": "text/x-python",
   "name": "python",
   "nbconvert_exporter": "python",
   "pygments_lexer": "ipython3",
   "version": "3.10.9"
  },
  "orig_nbformat": 4
 },
 "nbformat": 4,
 "nbformat_minor": 2
}
