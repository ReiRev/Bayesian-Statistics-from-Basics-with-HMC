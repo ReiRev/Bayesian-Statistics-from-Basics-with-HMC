{
 "cells": [
  {
   "cell_type": "code",
   "execution_count": 1,
   "metadata": {},
   "outputs": [],
   "source": [
    "import matplotlib.pyplot as plt\n",
    "import pandas as pd\n",
    "import numpy as np\n",
    "\n",
    "np.random.seed(0)"
   ]
  },
  {
   "attachments": {},
   "cell_type": "markdown",
   "metadata": {},
   "source": [
    "# 1 確率に関するベイズの定理\n",
    "\n",
    "ベイズの定理は以下によって定義される。\n",
    "\n",
    "$$\n",
    "p(A|B) = \\frac{p(B|A)p(A)}{p(B)}\n",
    "$$"
   ]
  },
  {
   "attachments": {},
   "cell_type": "markdown",
   "metadata": {},
   "source": [
    "## 1.1 ベイズ統計学小史\n",
    "\n",
    "ベイズの定理を考案したのは、トーマス・ベイズであるが、それを数式として整理したのはピエール・シモン・ラプラスである。\n",
    "20世紀までの統計の分野では頻度主義が多数派であり、ベイズ統計が忌避されていた。\n",
    "そのため、統計以外の分野における研究者たちが頻度主義を採用していたのは、ある意味必然であったと言える。"
   ]
  },
  {
   "attachments": {},
   "cell_type": "markdown",
   "metadata": {},
   "source": [
    "## 1.2 導入\n",
    "\n",
    "混乱を防ぐため、まずは、ベイズ統計を特徴づける主観確率からではなく、客観確率からベイズの定理を理解する。"
   ]
  },
  {
   "attachments": {},
   "cell_type": "markdown",
   "metadata": {},
   "source": [
    "### 1.2.1 確率\n",
    "\n",
    "- 試行(trial): 偶然に左右される観測結果\n",
    "- 事象(event): 試行の結果起こりうる状態\n",
    "- 標本空間(sample space): 起こりうる全ての事象\n",
    "- 根元事象(fundamental event): これ以上分割することのできない事象\n",
    "\n",
    "事象Aの起こる確率は以下で定義される。\n",
    "$$\n",
    "p(A) = \\frac{N(A)}{N(標本空間)}\n",
    "$$\n",
    "\n",
    "- 大数の法則(law of large numbers): 試行を繰り返すことで、事象Aの確率は本来の値に収束する。\n",
    "- 客観確率(objective probability): 上記によって定義される確率\n",
    "\n",
    "以下では、0.4の確率で1が出る思考を4回行い、ある回数の施行までの平均値を出している。\n",
    "確かに、どの場合においても十分な回数の施行を行えば、その値は0.4に近づくことがわかる。"
   ]
  },
  {
   "cell_type": "code",
   "execution_count": 2,
   "metadata": {},
   "outputs": [
    {
     "data": {
      "text/html": [
       "<div>\n",
       "<style scoped>\n",
       "    .dataframe tbody tr th:only-of-type {\n",
       "        vertical-align: middle;\n",
       "    }\n",
       "\n",
       "    .dataframe tbody tr th {\n",
       "        vertical-align: top;\n",
       "    }\n",
       "\n",
       "    .dataframe thead th {\n",
       "        text-align: right;\n",
       "    }\n",
       "</style>\n",
       "<table border=\"1\" class=\"dataframe\">\n",
       "  <thead>\n",
       "    <tr style=\"text-align: right;\">\n",
       "      <th></th>\n",
       "      <th>5</th>\n",
       "      <th>20</th>\n",
       "      <th>50</th>\n",
       "      <th>100</th>\n",
       "      <th>100000</th>\n",
       "    </tr>\n",
       "  </thead>\n",
       "  <tbody>\n",
       "    <tr>\n",
       "      <th>1回目</th>\n",
       "      <td>0.4</td>\n",
       "      <td>0.50</td>\n",
       "      <td>0.48</td>\n",
       "      <td>0.38</td>\n",
       "      <td>0.39842</td>\n",
       "    </tr>\n",
       "    <tr>\n",
       "      <th>2回目</th>\n",
       "      <td>0.2</td>\n",
       "      <td>0.40</td>\n",
       "      <td>0.40</td>\n",
       "      <td>0.46</td>\n",
       "      <td>0.40425</td>\n",
       "    </tr>\n",
       "    <tr>\n",
       "      <th>3回目</th>\n",
       "      <td>0.4</td>\n",
       "      <td>0.45</td>\n",
       "      <td>0.36</td>\n",
       "      <td>0.36</td>\n",
       "      <td>0.39755</td>\n",
       "    </tr>\n",
       "    <tr>\n",
       "      <th>4回目</th>\n",
       "      <td>0.4</td>\n",
       "      <td>0.25</td>\n",
       "      <td>0.40</td>\n",
       "      <td>0.40</td>\n",
       "      <td>0.39754</td>\n",
       "    </tr>\n",
       "  </tbody>\n",
       "</table>\n",
       "</div>"
      ],
      "text/plain": [
       "     5       20      50      100      100000\n",
       "1回目     0.4    0.50    0.48    0.38  0.39842\n",
       "2回目     0.2    0.40    0.40    0.46  0.40425\n",
       "3回目     0.4    0.45    0.36    0.36  0.39755\n",
       "4回目     0.4    0.25    0.40    0.40  0.39754"
      ]
     },
     "execution_count": 2,
     "metadata": {},
     "output_type": "execute_result"
    }
   ],
   "source": [
    "# 0.4の確率で1を取り、0.6の確率で0を取る二項分布の結果を生成\n",
    "experiments = [np.random.binomial(1, 0.4, 100000) for i in range(4)]\n",
    "n_trials = [5, 20, 50, 100, 100000]\n",
    "results = {f'{i+1}回目':[np.mean(e[:n]) for n in n_trials] for i, e in enumerate(experiments)}\n",
    "df = pd.DataFrame(results).T\n",
    "df.rename(columns={c:n for c,n in zip(df.columns, n_trials)}, inplace=True)\n",
    "df"
   ]
  },
  {
   "attachments": {},
   "cell_type": "markdown",
   "metadata": {},
   "source": [
    "### 1.2.2 分割\n",
    "\n",
    "分割: 各事象が共通の根元事象を持たない事象の組み合わせ\n",
    "\n",
    "$A_1, A_2, \\cdots, A_a$が分割である時、以下が成立する。\n",
    "\n",
    "$$\n",
    "\\sum\\limits_{i=1}^{a} p(A_i) = 1\n",
    "$$"
   ]
  },
  {
   "attachments": {},
   "cell_type": "markdown",
   "metadata": {},
   "source": [
    "### 1.2.3 同時確率\n",
    "\n",
    "さらに分割$B_1, B_2,\\cdots,B_b$を考えたとき、$A_i$と$B_j$が同時に観察される確率は$p(A_i, B_j)$で表され、これを同時確率(joint probability)と呼ぶ。\n",
    "\n",
    "1.2.2の式をさらに拡張して(1次元から2次元へ)、以下が成立する。\n",
    "\n",
    "$$\n",
    "\\sum\\limits_{i=1}^{a} \\sum\\limits_{j=1}^{b} p(A_i, B_j) = 1\n",
    "$$\n",
    "\n",
    "3つの分割がある場合も、同様にして拡張を行えばよく、以下が成立する。\n",
    "\n",
    "$$\n",
    "\\sum\\limits_{i=1}^{a} \\sum\\limits_{j=1}^{b} \\sum\\limits_{k=1}^{c}  p(A_i, B_j, C_k) = 1\n",
    "$$\n"
   ]
  },
  {
   "attachments": {},
   "cell_type": "markdown",
   "metadata": {},
   "source": [
    "### 1.2.4 周辺確率\n",
    "\n",
    "同時確率で、ある分割におけるすべての和を取ると、1変数を消去したことになり、その他の変数が残ることになる。これを周辺確率(marginal probability)と呼ぶ。\n",
    "\n",
    "$$\n",
    "\\sum\\limits_{i=1}^{a}  p(A_i, B_j) = p(B_j)\n",
    "$$\n",
    "\n",
    "$$\n",
    "\\sum\\limits_{j=1}^{b} p(A_i, B_j) = p(A_i)\n",
    "$$\n",
    "\n",
    "分割が3つの場合も、同様の式が導かれる。\n",
    "\n",
    "$$\n",
    "\\sum\\limits_{i=1}^{a} p(A_i, B_j, C_k) = p(B_j, C_k)\n",
    "$$\n",
    "\n",
    "$$\n",
    "\\sum\\limits_{i=1}^{a} \\sum\\limits_{j=1}^{b}  p(A_i, B_j, C_k) = p(C_k)\n",
    "$$"
   ]
  },
  {
   "attachments": {},
   "cell_type": "markdown",
   "metadata": {},
   "source": [
    "### 1.2.5 条件付き確率\n",
    "\n",
    "$A_i$が観測された条件のもとで、さらに$B_j$が観測される条件、すなわち条件付き確率(condition probability)は、以下の式で表される。\n",
    "\n",
    "$$\n",
    "p(B_j|A_i) = \\frac{p(B_j, A_i)}{p(A_i)}\n",
    "$$\n",
    "\n",
    "つまり、すでに$A_i$は確定しているので、これから起こりうるのは$B_1,\\cdots,B_j$だけになって、分母には$\\sum\\limits_{j=1}^{b} p(A_i, B_j) = p(A_i)$が来る。\n",
    "\n",
    "同様にして、3つの分割を考えるとき、$A_i$がすでに観測されている場合の条件付き確率は以下になる。\n",
    "\n",
    "$$\n",
    "p(B_j, C_k | A_i) = \\frac{p(B_j, C_k)}{p(A_i)}\n",
    "$$\n",
    "\n",
    "また、$A_i, B_j$が観測されている際には、条件付き確率は以下になる。\n",
    "\n",
    "$$\n",
    "p(C_k|A_i, B_j) = \\frac{p(A_i,B_j,C_k)}{p(A_i, B_j)}\n",
    "$$"
   ]
  },
  {
   "attachments": {},
   "cell_type": "markdown",
   "metadata": {},
   "source": [
    "### 1.2.6 乗法定理・全確率の公式\n",
    "\n",
    "条件付き確率の式を移行移行して求まる以下の式は、乗法定理(multiplication theorem of probability)と呼ばれる。\n",
    "\n",
    "$$\n",
    "p(A_i, B_j) = p(B_j|A_i) p(A_i) \n",
    "$$\n",
    "\n",
    "また、以下の式は全確率の定理(law of total probability)と呼ばれる。\n",
    "\n",
    "$$\n",
    "\\sum\\limits_{i=1}^{a} p(B_j|A_i) p(A_i) = 1\n",
    "$$"
   ]
  },
  {
   "cell_type": "code",
   "execution_count": null,
   "metadata": {},
   "outputs": [],
   "source": []
  }
 ],
 "metadata": {
  "kernelspec": {
   "display_name": "Bayesian-Statistics-from-Basics-with-HMC",
   "language": "python",
   "name": "python3"
  },
  "language_info": {
   "codemirror_mode": {
    "name": "ipython",
    "version": 3
   },
   "file_extension": ".py",
   "mimetype": "text/x-python",
   "name": "python",
   "nbconvert_exporter": "python",
   "pygments_lexer": "ipython3",
   "version": "3.10.9"
  },
  "orig_nbformat": 4
 },
 "nbformat": 4,
 "nbformat_minor": 2
}
