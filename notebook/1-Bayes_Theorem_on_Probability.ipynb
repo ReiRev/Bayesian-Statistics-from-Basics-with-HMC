{
 "cells": [
  {
   "cell_type": "code",
   "execution_count": 1,
   "metadata": {},
   "outputs": [],
   "source": [
    "import matplotlib.pyplot as plt\n",
    "import pandas as pd\n",
    "import numpy as np\n",
    "\n",
    "np.random.seed(0)"
   ]
  },
  {
   "attachments": {},
   "cell_type": "markdown",
   "metadata": {},
   "source": [
    "# 1 確率に関するベイズの定理\n",
    "\n",
    "ベイズの定理は以下によって定義される。\n",
    "\n",
    "$$\n",
    "p(A|B) = \\frac{p(B|A)p(A)}{p(B)}\n",
    "$$"
   ]
  },
  {
   "attachments": {},
   "cell_type": "markdown",
   "metadata": {},
   "source": [
    "## 1.1 ベイズ統計学小史\n",
    "\n",
    "ベイズの定理を考案したのは、トーマス・ベイズであるが、それを数式として整理したのはピエール・シモン・ラプラスである。\n",
    "20世紀までの統計の分野では頻度主義が多数派であり、ベイズ統計が忌避されていた。\n",
    "そのため、統計以外の分野における研究者たちが頻度主義を採用していたのは、ある意味必然であったと言える。"
   ]
  },
  {
   "attachments": {},
   "cell_type": "markdown",
   "metadata": {},
   "source": [
    "## 1.2 導入\n",
    "\n",
    "混乱を防ぐため、まずは、ベイズ統計を特徴づける主観確率からではなく、客観確率からベイズの定理を理解する。"
   ]
  },
  {
   "attachments": {},
   "cell_type": "markdown",
   "metadata": {},
   "source": [
    "### 1.2.1 確率\n",
    "\n",
    "- 試行(trial): 偶然に左右される観測結果\n",
    "- 事象(event): 試行の結果起こりうる状態\n",
    "- 標本空間(sample space): 起こりうる全ての事象\n",
    "- 根元事象(fundamental event): これ以上分割することのできない事象\n",
    "\n",
    "事象Aの起こる確率は以下で定義される。\n",
    "$$\n",
    "p(A) = \\frac{N(A)}{N(標本空間)}\n",
    "$$\n",
    "\n",
    "- 大数の法則(law of large numbers): 試行を繰り返すことで、事象Aの確率は本来の値に収束する。\n",
    "- 客観確率(objective probability): 上記によって定義される確率\n",
    "\n",
    "以下では、0.4の確率で1が出る思考を4回行い、ある回数の施行までの平均値を出している。\n",
    "確かに、どの場合においても十分な回数の施行を行えば、その値は0.4に近づくことがわかる。"
   ]
  },
  {
   "cell_type": "code",
   "execution_count": 2,
   "metadata": {},
   "outputs": [
    {
     "data": {
      "text/html": [
       "<div>\n",
       "<style scoped>\n",
       "    .dataframe tbody tr th:only-of-type {\n",
       "        vertical-align: middle;\n",
       "    }\n",
       "\n",
       "    .dataframe tbody tr th {\n",
       "        vertical-align: top;\n",
       "    }\n",
       "\n",
       "    .dataframe thead th {\n",
       "        text-align: right;\n",
       "    }\n",
       "</style>\n",
       "<table border=\"1\" class=\"dataframe\">\n",
       "  <thead>\n",
       "    <tr style=\"text-align: right;\">\n",
       "      <th></th>\n",
       "      <th>5</th>\n",
       "      <th>20</th>\n",
       "      <th>50</th>\n",
       "      <th>100</th>\n",
       "      <th>100000</th>\n",
       "    </tr>\n",
       "  </thead>\n",
       "  <tbody>\n",
       "    <tr>\n",
       "      <th>1回目</th>\n",
       "      <td>0.4</td>\n",
       "      <td>0.50</td>\n",
       "      <td>0.48</td>\n",
       "      <td>0.38</td>\n",
       "      <td>0.39842</td>\n",
       "    </tr>\n",
       "    <tr>\n",
       "      <th>2回目</th>\n",
       "      <td>0.2</td>\n",
       "      <td>0.40</td>\n",
       "      <td>0.40</td>\n",
       "      <td>0.46</td>\n",
       "      <td>0.40425</td>\n",
       "    </tr>\n",
       "    <tr>\n",
       "      <th>3回目</th>\n",
       "      <td>0.4</td>\n",
       "      <td>0.45</td>\n",
       "      <td>0.36</td>\n",
       "      <td>0.36</td>\n",
       "      <td>0.39755</td>\n",
       "    </tr>\n",
       "    <tr>\n",
       "      <th>4回目</th>\n",
       "      <td>0.4</td>\n",
       "      <td>0.25</td>\n",
       "      <td>0.40</td>\n",
       "      <td>0.40</td>\n",
       "      <td>0.39754</td>\n",
       "    </tr>\n",
       "  </tbody>\n",
       "</table>\n",
       "</div>"
      ],
      "text/plain": [
       "     5       20      50      100      100000\n",
       "1回目     0.4    0.50    0.48    0.38  0.39842\n",
       "2回目     0.2    0.40    0.40    0.46  0.40425\n",
       "3回目     0.4    0.45    0.36    0.36  0.39755\n",
       "4回目     0.4    0.25    0.40    0.40  0.39754"
      ]
     },
     "execution_count": 2,
     "metadata": {},
     "output_type": "execute_result"
    }
   ],
   "source": [
    "# 0.4の確率で1を取り、0.6の確率で0を取る二項分布の結果を生成\n",
    "experiments = [np.random.binomial(1, 0.4, 100000) for i in range(4)]\n",
    "n_trials = [5, 20, 50, 100, 100000]\n",
    "results = {f'{i+1}回目':[np.mean(e[:n]) for n in n_trials] for i, e in enumerate(experiments)}\n",
    "df = pd.DataFrame(results).T\n",
    "df.rename(columns={c:n for c,n in zip(df.columns, n_trials)}, inplace=True)\n",
    "df"
   ]
  },
  {
   "attachments": {},
   "cell_type": "markdown",
   "metadata": {},
   "source": [
    "### 1.2.2 分割\n",
    "\n",
    "分割: 各事象が共通の根元事象を持たない事象の組み合わせ\n",
    "\n",
    "$A_1, A_2, \\cdots, A_a$が分割である時、以下が成立する。\n",
    "\n",
    "$$\n",
    "\\sum\\limits_{i=1}^{a} p(A_i) = 1\n",
    "$$"
   ]
  },
  {
   "attachments": {},
   "cell_type": "markdown",
   "metadata": {},
   "source": [
    "### 1.2.3 同時確率\n",
    "\n",
    "さらに分割$B_1, B_2,\\cdots,B_b$を考えたとき、$A_i$と$B_j$が同時に観察される確率は$p(A_i, B_j)$で表され、これを同時確率(joint probability)と呼ぶ。\n",
    "\n",
    "1.2.2の式をさらに拡張して(1次元から2次元へ)、以下が成立する。\n",
    "\n",
    "$$\n",
    "\\sum\\limits_{i=1}^{a} \\sum\\limits_{j=1}^{b} p(A_i, B_j) = 1\n",
    "$$\n",
    "\n",
    "3つの分割がある場合も、同様にして拡張を行えばよく、以下が成立する。\n",
    "\n",
    "$$\n",
    "\\sum\\limits_{i=1}^{a} \\sum\\limits_{j=1}^{b} \\sum\\limits_{k=1}^{c}  p(A_i, B_j, C_k) = 1\n",
    "$$\n"
   ]
  },
  {
   "attachments": {},
   "cell_type": "markdown",
   "metadata": {},
   "source": [
    "### 1.2.4 周辺確率\n",
    "\n",
    "同時確率で、ある分割におけるすべての和を取ると、1変数を消去したことになり、その他の変数が残ることになる。これを周辺確率(marginal probability)と呼ぶ。\n",
    "\n",
    "$$\n",
    "\\sum\\limits_{i=1}^{a}  p(A_i, B_j) = p(B_j)\n",
    "$$\n",
    "\n",
    "$$\n",
    "\\sum\\limits_{j=1}^{b} p(A_i, B_j) = p(A_i)\n",
    "$$\n",
    "\n",
    "分割が3つの場合も、同様の式が導かれる。\n",
    "\n",
    "$$\n",
    "\\sum\\limits_{i=1}^{a} p(A_i, B_j, C_k) = p(B_j, C_k)\n",
    "$$\n",
    "\n",
    "$$\n",
    "\\sum\\limits_{i=1}^{a} \\sum\\limits_{j=1}^{b}  p(A_i, B_j, C_k) = p(C_k)\n",
    "$$"
   ]
  },
  {
   "attachments": {},
   "cell_type": "markdown",
   "metadata": {},
   "source": [
    "### 1.2.5 条件付き確率\n",
    "\n",
    "$A_i$が観測された条件のもとで、さらに$B_j$が観測される条件、すなわち条件付き確率(condition probability)は、以下の式で表される。\n",
    "\n",
    "$$\n",
    "p(B_j|A_i) = \\frac{p(B_j, A_i)}{p(A_i)}\n",
    "$$\n",
    "\n",
    "つまり、すでに$A_i$は確定しているので、これから起こりうるのは$B_1,\\cdots,B_j$だけになって、分母には$\\sum\\limits_{j=1}^{b} p(A_i, B_j) = p(A_i)$が来る。\n",
    "\n",
    "同様にして、3つの分割を考えるとき、$A_i$がすでに観測されている場合の条件付き確率は以下になる。\n",
    "\n",
    "$$\n",
    "p(B_j, C_k | A_i) = \\frac{p(B_j, C_k)}{p(A_i)}\n",
    "$$\n",
    "\n",
    "また、$A_i, B_j$が観測されている際には、条件付き確率は以下になる。\n",
    "\n",
    "$$\n",
    "p(C_k|A_i, B_j) = \\frac{p(A_i,B_j,C_k)}{p(A_i, B_j)}\n",
    "$$"
   ]
  },
  {
   "attachments": {},
   "cell_type": "markdown",
   "metadata": {},
   "source": [
    "### 1.2.6 乗法定理・全確率の公式\n",
    "\n",
    "条件付き確率の式を移行移行して求まる以下の式は、乗法定理(multiplication theorem of probability)と呼ばれる。\n",
    "\n",
    "$$\n",
    "p(A_i, B_j) = p(B_j|A_i) p(A_i) \n",
    "$$\n",
    "\n",
    "また、以下の式は全確率の定理(law of total probability)と呼ばれる。\n",
    "\n",
    "$$\n",
    "\\sum\\limits_{i=1}^{a} p(B_j|A_i) p(A_i) = 1\n",
    "$$"
   ]
  },
  {
   "attachments": {},
   "cell_type": "markdown",
   "metadata": {},
   "source": [
    "## 1.3 ベイズの定理\n",
    "\n",
    "ベイズの定理は、以下の式で表される。\n",
    "\n",
    "$$\n",
    "p(A_i|B_j) = \\frac{p(B_j|A_i)p(A_i)}{p(B_j)}\n",
    "$$\n",
    "\n",
    "右辺の$p(A_i)$を事前確率(prior probability)、左辺の$p(A_i|B_j)$を事後確率(posterior probability)と呼ぶ。"
   ]
  },
  {
   "attachments": {},
   "cell_type": "markdown",
   "metadata": {},
   "source": [
    "### 1.3.1 健診問題\n",
    "\n",
    "以下の健診問題を考える。\n",
    "\n",
    "> ある国の病気Aは、1万人あたり40人の割合でかかっていることが知られています。\n",
    "> 病気Aにかかっている人が健診Bを受けると8割の確率で陽性となります。\n",
    "> 健常な人が健診Bを受けると9割の確率で陰性となります。\n",
    "> 健診Bによって陽性と判定された場合、その受信者が病気Aにかかっている確率はどれほどでしょうか？\n",
    "\n",
    "各事象を以下のように定める。\n",
    "\n",
    "- $A_1$: 病気にかかっている\n",
    "- $A_2$: 病気にかかっていない\n",
    "- $B_1$: 陽性判定\n",
    "- $B_2$: 陰性判定\n",
    "\n",
    "ベイズの定理より、\"<i>健診Bによって陽性と判定された場合$(B_1)$の、その受信者が病気Aにかかっている($A_1$)確率</i>\"は、以下の式で表される。\n",
    "\n",
    "$$\n",
    "p(A_1|B_1) = \\frac{p(A_1, B_1) }{p(B_1)}\n",
    "$$\n",
    "\n",
    "$p(B_1)$は、周辺確率になるので、以下の式によって求まる。\n",
    "\n",
    "$$\n",
    "p(B_1) = p(A_1, B_1) + p(A_2, B_1)\n",
    "$$\n",
    "\n",
    "以下の式が成立することに注意して、最終的な式を求める。\n",
    "\n",
    "$$\n",
    "p(A_1, B_1) = p(B_1|A_1)p(A_1) \\\\\n",
    "p(A_1, B_2) = p(B_1|A_2)p(A_2)\n",
    "$$\n",
    "\n",
    "$$\n",
    "p(A_1|B_1) = \\frac{p(B_1|A_1)p(A_1)}{p(B_1|A_1)p(A_1) + p(B_1|A_2) p(A_2)}\n",
    "$$\n",
    "\n",
    "- $p(A_1)$: 40/10000\n",
    "- $p(A_2)$: 1-40/10000\n",
    "- $p(B_1|A_1)$: 0.8\n",
    "- $p(B_1|A_2)$: 1-0.9"
   ]
  },
  {
   "cell_type": "code",
   "execution_count": 3,
   "metadata": {},
   "outputs": [
    {
     "name": "stdout",
     "output_type": "stream",
     "text": [
      "ans: 0.0311\n"
     ]
    }
   ],
   "source": [
    "p_a1 = 40/10_000\n",
    "p_a2 = 1-p_a1\n",
    "p_conditional_b1_a1 = 0.8\n",
    "p_conditional_b1_a2 = 1-0.9\n",
    "ans = (p_conditional_b1_a1*p_a1) / (p_conditional_b1_a1*p_a1 + p_conditional_b1_a2*p_a2)\n",
    "print(f'ans: {ans:.3}')"
   ]
  },
  {
   "attachments": {},
   "cell_type": "markdown",
   "metadata": {},
   "source": [
    "陽性という判定を仮に受けたとしても、実際に病気に罹っている確率は3%しかない。"
   ]
  },
  {
   "attachments": {},
   "cell_type": "markdown",
   "metadata": {},
   "source": [
    "### 1.3.2 逆確率\n",
    "\n",
    "先の問題では、答えを求める式に$p(B_1|A_1)$と$p(B_1|A_2)$が出現することが自然であることに注意する。\n",
    "なぜなら、現実の状況においては、まず医師が病気かどうかを判定したのち(つまり、条件Aが確定したのち)、健診にかけて陽性・陰性の判定を確認することが自然だからだ。\n",
    "\n",
    "そして、求める式が$p(A_1|B_1)$であることも自然である。\n",
    "なぜなら、観測されているのは、$B_1$であるからだ。\n",
    "\n",
    "一方でこの問題では、原因は\"病気\"で、結果は\"健診の診断結果\"なのだから、$p(A_1|B_1)$は、結果をもとに原因を求める確率であるといえる。\n",
    "因果関係が逆転していることから、これを<b>逆確率(inverse probability)</b>と呼ぶ。"
   ]
  },
  {
   "attachments": {},
   "cell_type": "markdown",
   "metadata": {},
   "source": [
    "### 1.3.3 独立\n",
    "\n",
    "事象$A_i$が事象$B_j$の結果に影響を与えない場合、以下の式が成立する。\n",
    "\n",
    "$$\n",
    "p(A_i|B_j) = p(B_j|A_i)\\\\\n",
    "p(A_i,B_j) = p(A_i)p(B_j)\n",
    "$$\n",
    "\n",
    "また、事象$A$が観測された条件のもとで、$B,C$が独立な場合、以下の式が成立する。\n",
    "\n",
    "$$\n",
    "p(B,C|A) = p(B|A) p(C|A)\n",
    "$$"
   ]
  },
  {
   "attachments": {},
   "cell_type": "markdown",
   "metadata": {},
   "source": [
    "### 1.3.4 ベイズ更新\n",
    "\n",
    "事象$A$を知るための観測結果$B, C$が得られたとし、$B$と$C$が独立な場合を考える。\n",
    "事後確率は以下のように計算される。\n",
    "\n",
    "\\begin{aligned}\n",
    "p(A|B,C)&=\\frac{p(B, C|A)p(A)}{p(B,C)}\\\\\n",
    "&=\\frac{p(B|A)p(C|A)}{p(B)p(C)} (\\because B,Cは独立)\\\\\n",
    "&=\\frac{p(C|A)}{p(C)} \\cdot \\frac{p(B|A)p(A)}{p(B)}\\\\\n",
    "&=\\frac{p(C|A)}{p(C)} \\cdot p(A|B)\n",
    "\\end{aligned}\n",
    "\n",
    "上の式では、Bが分かった時点での事後確率$p(A|B)$が現れていることが分かる。\n",
    "従って、例えば事象$B$が確定したのち、事象$C$が確定したというような際には、まず$p(A|B)$を計算しておき、その後の事象$C$確定後に、$\\frac{p(C|A)}{p(C)}$をかけ合わせることで、最終的な事後確率$p(A|B,C)$を計算可能である。\n",
    "このように、事後確率は帰納的に求めていくことができる。\n",
    "曰く、「<i>今日の事後分布は、明日の事前分布</i>」。\n",
    "これを<b>ベイズ更新(Bayesian updating)</b>と呼ぶ。"
   ]
  },
  {
   "attachments": {},
   "cell_type": "markdown",
   "metadata": {},
   "source": [
    "### 1.3.5 迷惑メールフィルタ\n",
    "\n",
    "「絶対必勝」,「完全無料」,「投資指南」,「急騰予想」の4つの単語が含まれたメールが迷惑メールかどうかを判定することを考える。\n",
    "過去のデータから、それぞれの単語が含まれているときの迷惑メール及び非迷惑メールである確率は以下である。"
   ]
  },
  {
   "cell_type": "code",
   "execution_count": 4,
   "metadata": {},
   "outputs": [
    {
     "data": {
      "text/html": [
       "<div>\n",
       "<style scoped>\n",
       "    .dataframe tbody tr th:only-of-type {\n",
       "        vertical-align: middle;\n",
       "    }\n",
       "\n",
       "    .dataframe tbody tr th {\n",
       "        vertical-align: top;\n",
       "    }\n",
       "\n",
       "    .dataframe thead th {\n",
       "        text-align: right;\n",
       "    }\n",
       "</style>\n",
       "<table border=\"1\" class=\"dataframe\">\n",
       "  <thead>\n",
       "    <tr style=\"text-align: right;\">\n",
       "      <th></th>\n",
       "      <th>迷惑メール</th>\n",
       "      <th>非迷惑メール</th>\n",
       "    </tr>\n",
       "  </thead>\n",
       "  <tbody>\n",
       "    <tr>\n",
       "      <th>絶対必勝</th>\n",
       "      <td>0.11</td>\n",
       "      <td>0.01</td>\n",
       "    </tr>\n",
       "    <tr>\n",
       "      <th>完全無料</th>\n",
       "      <td>0.12</td>\n",
       "      <td>0.02</td>\n",
       "    </tr>\n",
       "    <tr>\n",
       "      <th>投資指南</th>\n",
       "      <td>0.15</td>\n",
       "      <td>0.01</td>\n",
       "    </tr>\n",
       "    <tr>\n",
       "      <th>急騰予想</th>\n",
       "      <td>0.13</td>\n",
       "      <td>0.02</td>\n",
       "    </tr>\n",
       "  </tbody>\n",
       "</table>\n",
       "</div>"
      ],
      "text/plain": [
       "      迷惑メール  非迷惑メール\n",
       "絶対必勝   0.11    0.01\n",
       "完全無料   0.12    0.02\n",
       "投資指南   0.15    0.01\n",
       "急騰予想   0.13    0.02"
      ]
     },
     "execution_count": 4,
     "metadata": {},
     "output_type": "execute_result"
    }
   ],
   "source": [
    "df = pd.DataFrame(\n",
    "    {\n",
    "        '迷惑メール': [0.11, 0.12, 0.15, 0.13],\n",
    "        '非迷惑メール': [0.01, 0.02, 0.01, 0.02]\n",
    "    },\n",
    "    index=['絶対必勝', '完全無料', '投資指南', '急騰予想']\n",
    ")\n",
    "df"
   ]
  },
  {
   "attachments": {},
   "cell_type": "markdown",
   "metadata": {},
   "source": [
    "それぞれの単語が含まれているかどうかに関わらず、そもそも、すべてのメールの中で迷惑メールが含まれる確率は0.6であるとする。\n",
    "すると、ベイズ更新を用いて以下のように、迷惑メールである確率を求めていくことができる。"
   ]
  },
  {
   "cell_type": "code",
   "execution_count": 5,
   "metadata": {},
   "outputs": [
    {
     "name": "stdout",
     "output_type": "stream",
     "text": [
      "initial: 0.60000\n",
      "絶対必勝: 0.94286\n",
      "完全無料: 0.99000\n",
      "投資指南: 0.99933\n",
      "急騰予想: 0.99990\n"
     ]
    }
   ],
   "source": [
    "p = 0.6\n",
    "print(f'initial: {p:.5f}')\n",
    "for i, row in df.iterrows():\n",
    "    p = p * row['迷惑メール'] / (p*row['迷惑メール'] + (1-p)*row['非迷惑メール'])\n",
    "    print(f'{i}: {p:.5f}')"
   ]
  }
 ],
 "metadata": {
  "kernelspec": {
   "display_name": "Bayesian-Statistics-from-Basics-with-HMC",
   "language": "python",
   "name": "python3"
  },
  "language_info": {
   "codemirror_mode": {
    "name": "ipython",
    "version": 3
   },
   "file_extension": ".py",
   "mimetype": "text/x-python",
   "name": "python",
   "nbconvert_exporter": "python",
   "pygments_lexer": "ipython3",
   "version": "3.10.9"
  },
  "orig_nbformat": 4
 },
 "nbformat": 4,
 "nbformat_minor": 2
}
